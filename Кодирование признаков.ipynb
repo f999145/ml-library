{
 "cells": [
  {
   "cell_type": "markdown",
   "metadata": {},
   "source": [
    "# С помощью `sklearn.preprocessing`"
   ]
  },
  {
   "cell_type": "markdown",
   "metadata": {},
   "source": [
    "1. Импорт выбранного кодировщика\n",
    "    ```python\n",
    "    from sklearn.preprocessing import ВЫБРАННЫЙ_КОДИРОВЩИК\n",
    "    ```\n",
    "2. Инициализация кодировщика\n",
    "    ```python\n",
    "    encoder = ВЫБРАННЫЙ_КОДИРОВЩИК()\n",
    "    ```\n",
    "3. Обучение (подгонка) кодировщика на выбранном признаке\n",
    "    ```python\n",
    "    encoder.fit(data['ВЫБРАННЫЙ_ПРИЗНАК'])\n",
    "    ```\n",
    "4. Преобразование выбранного признака\n",
    "    ```python\n",
    "    encoder.transform(data['ВЫБРАННЫЙ_ПРИЗНАК'])\n",
    "    ```"
   ]
  },
  {
   "cell_type": "markdown",
   "metadata": {},
   "source": [
    "Что требует кодирования:\n",
    "1. Номинальный признак -> [Однократное кодирование]"
   ]
  },
  {
   "cell_type": "code",
   "execution_count": 1,
   "metadata": {},
   "outputs": [
    {
     "name": "stdout",
     "output_type": "stream",
     "text": [
      "категории: ['BSc' 'MSc' 'PhD' 'начальное' 'нет' 'среднее']\n"
     ]
    },
    {
     "data": {
      "text/plain": [
       "array([[0, 0, 0, 0, 1, 0],\n",
       "       [0, 1, 0, 0, 0, 0]])"
      ]
     },
     "execution_count": 1,
     "metadata": {},
     "output_type": "execute_result"
    }
   ],
   "source": [
    "from sklearn.preprocessing  import LabelBinarizer\n",
    " \n",
    "lb = LabelBinarizer()\n",
    " \n",
    "education = ['нет', 'начальное', 'среднее', 'BSc', 'MSc', 'начальное', 'PhD']\n",
    " \n",
    "lb.fit(education)\n",
    " \n",
    "print('категории:', lb.classes_)\n",
    " \n",
    "lb.transform(['нет', 'MSc'])"
   ]
  }
 ],
 "metadata": {
  "kernelspec": {
   "display_name": "Python 3",
   "language": "python",
   "name": "python3"
  },
  "language_info": {
   "codemirror_mode": {
    "name": "ipython",
    "version": 3
   },
   "file_extension": ".py",
   "mimetype": "text/x-python",
   "name": "python",
   "nbconvert_exporter": "python",
   "pygments_lexer": "ipython3",
   "version": "3.12.2"
  }
 },
 "nbformat": 4,
 "nbformat_minor": 2
}
